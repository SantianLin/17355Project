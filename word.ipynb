{
 "cells": [
  {
   "cell_type": "code",
   "execution_count": 1,
   "metadata": {},
   "outputs": [],
   "source": [
    "from io import StringIO\n",
    "from pylint.reporters import text\n",
    "from pylint.lint import Run\n",
    "\n",
    "\n",
    "def main():\n",
    "    f = open(\"report.txt\", \"a\")\n",
    "    for i in range(30):\n",
    "        pylint_opts = ['./resources/{}.py'.format(i), '--reports=n']\n",
    "        pylint_output = StringIO()\n",
    "        reporter = text.TextReporter(pylint_output)\n",
    "        Run(pylint_opts, reporter=reporter, do_exit=False)\n",
    "        pylint_output.seek(0)\n",
    "        res= []\n",
    "        for line in pylint_output.read():\n",
    "            if not line.startswith('*') and line != '\\n' and (line == 'C' or line =='E'or line =='W'or line =='R'):\n",
    "                res.append(line)\n",
    "                f.write(line)\n",
    "        f.write('\\n')\n",
    "    f.close()\n",
    "\n",
    "\n",
    "\n",
    "if __name__ == '__main__':\n",
    "    main()"
   ]
  }
 ],
 "metadata": {
  "interpreter": {
   "hash": "efc49c6be77348d2dcf5c18990ed0a8f7e8e55cfa825a340ba0c19b8eb880532"
  },
  "kernelspec": {
   "display_name": "Python 3.8.0 64-bit",
   "language": "python",
   "name": "python3"
  },
  "language_info": {
   "codemirror_mode": {
    "name": "ipython",
    "version": 3
   },
   "file_extension": ".py",
   "mimetype": "text/x-python",
   "name": "python",
   "nbconvert_exporter": "python",
   "pygments_lexer": "ipython3",
   "version": "3.8.0"
  },
  "orig_nbformat": 4
 },
 "nbformat": 4,
 "nbformat_minor": 2
}
